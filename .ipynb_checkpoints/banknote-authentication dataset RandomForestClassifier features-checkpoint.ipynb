{
 "cells": [
  {
   "cell_type": "markdown",
   "metadata": {},
   "source": [
    "by Nicholas Stepanov"
   ]
  },
  {
   "cell_type": "code",
   "execution_count": 107,
   "metadata": {},
   "outputs": [],
   "source": [
    "import pandas\n",
    "import numpy as np\n",
    "import sklearn\n",
    "from sklearn.ensemble import RandomForestClassifier\n",
    "from sklearn.tree import DecisionTreeClassifier\n",
    "from sklearn.metrics import accuracy_score\n",
    "from sklearn.model_selection import train_test_split"
   ]
  },
  {
   "cell_type": "markdown",
   "metadata": {},
   "source": [
    "## banknote-authentication dataset\n",
    "### Author: Volker Lohweg (University of Applied Sciences, Ostwestfalen-Lippe)  Source: [UCI]\n",
    "### (https://archive.ics.uci.edu/ml/datasets/banknote+authentication) - 2012  Please cite: [UCI]\n",
    "### (https://archive.ics.uci.edu/ml/citation_policy.html)  \n",
    "Dataset about distinguishing genuine and forged banknotes. Data were extracted from images that were taken from genuine and forged banknote-like specimens. For digitization, an industrial camera usually used for print inspection was used. The final images have 400x 400 pixels. Due to the object lens and distance to the investigated object gray-scale pictures with a resolution of about 660 dpi were gained. A Wavelet Transform tool was used to extract features from these images.\n",
    "### Attribute Information   \n",
    "#### V1. variance of Wavelet Transformed image (continuous)  \n",
    "#### V2. skewness of Wavelet Transformed image (continuous) \n",
    "#### V3. curtosis of Wavelet Transformed image (continuous) \n",
    "#### V4. entropy of image (continuous)   \n",
    "#### Class (target). Presumably 1 for genuine and 2 for forged"
   ]
  },
  {
   "cell_type": "code",
   "execution_count": 108,
   "metadata": {},
   "outputs": [],
   "source": [
    "data = pandas.read_csv(\"data/php50jXam.csv\")\n",
    "full_features = data[list([\"V1\",\"V2\",\"V3\", \"V4\"])]\n",
    "features_1 = data[list([\"V2\",\"V3\", \"V4\"])]\n",
    "features_2 = data[list([\"V1\",\"V3\", \"V4\"])]\n",
    "features_3 = data[list([\"V1\",\"V2\", \"V4\"])]\n",
    "features_4 = data[list([\"V1\",\"V2\",\"V3\"])]\n",
    "labels = data[\"Class\"]"
   ]
  },
  {
   "cell_type": "code",
   "execution_count": 109,
   "metadata": {},
   "outputs": [
    {
     "name": "stdout",
     "output_type": "stream",
     "text": [
      "Test accuracy (full): 0.9912536443148688\n",
      "Test accuracy (no V1): 0.9533527696793003\n",
      "Test accuracy (no V2): 0.9766763848396501\n",
      "Test accuracy (no V3): 0.9766763848396501\n",
      "Test accuracy (no V4): 0.9825072886297376\n"
     ]
    }
   ],
   "source": [
    "X_train, X_test, y_train, y_test = train_test_split(full_features, labels, random_state=0)\n",
    "full_forest = RandomForestClassifier(n_estimators=20, max_features=4 )\n",
    "full_forest.fit(X_train, y_train)\n",
    "print (\"Test accuracy (full):\" , full_forest.score(X_test,y_test))\n",
    "X_train, X_test, y_train, y_test = train_test_split(features_1, labels, random_state=0)\n",
    "forest_1 = RandomForestClassifier(n_estimators=20, max_features=3 )\n",
    "forest_1.fit(X_train, y_train)\n",
    "print (\"Test accuracy (no V1):\" , forest_1.score(X_test,y_test))\n",
    "X_train, X_test, y_train, y_test = train_test_split(features_2, labels, random_state=0)\n",
    "forest_2 = RandomForestClassifier(n_estimators=20, max_features=3 )\n",
    "forest_2.fit(X_train, y_train)\n",
    "print (\"Test accuracy (no V2):\" , forest_2.score(X_test,y_test))\n",
    "X_train, X_test, y_train, y_test = train_test_split(features_3, labels, random_state=0)\n",
    "forest_3 = RandomForestClassifier(n_estimators=20, max_features=3 )\n",
    "forest_3.fit(X_train, y_train)\n",
    "print (\"Test accuracy (no V3):\" , forest_3.score(X_test,y_test))\n",
    "X_train, X_test, y_train, y_test = train_test_split(features_4, labels, random_state=0)\n",
    "forest_4 = RandomForestClassifier(n_estimators=20, max_features=3 )\n",
    "forest_4.fit(X_train, y_train)\n",
    "print (\"Test accuracy (no V4):\" , forest_4.score(X_test,y_test))"
   ]
  },
  {
   "cell_type": "code",
   "execution_count": 110,
   "metadata": {},
   "outputs": [
    {
     "data": {
      "image/png": "[encoded data removed]",
      "text/plain": [
       "<Figure size 432x288 with 1 Axes>"
      ]
     },
     "metadata": {},
     "output_type": "display_data"
    },
    {
     "data": {
      "image/png": "[encoded data removed]",
      "text/plain": [
       "<Figure size 432x288 with 1 Axes>"
      ]
     },
     "metadata": {},
     "output_type": "display_data"
    },
    {
     "data": {
      "image/png": "[encoded data removed]",
      "text/plain": [
       "<Figure size 432x288 with 1 Axes>"
      ]
     },
     "metadata": {},
     "output_type": "display_data"
    },
    {
     "data": {
      "image/png": "[encoded data removed]",
      "text/plain": [
       "<Figure size 432x288 with 1 Axes>"
      ]
     },
     "metadata": {},
     "output_type": "display_data"
    },
    {
     "data": {
      "image/png": "[encoded data removed]",
      "text/plain": [
       "<Figure size 432x288 with 1 Axes>"
      ]
     },
     "metadata": {},
     "output_type": "display_data"
    }
   ],
   "source": [
    "import matplotlib.pyplot as plt\n",
    "n_features = 4\n",
    "plt.barh(range(n_features), full_forest.feature_importances_, align='center')\n",
    "plt.yticks(np.arange(n_features), [\"V1\", \"V2\", \"V3\",\"V4\"])\n",
    "plt.xlabel('Full Feature Importance')\n",
    "plt.ylabel('Feature')\n",
    "plt.show()\n",
    "n_features = 3\n",
    "plt.barh(range(n_features), forest_1.feature_importances_, align='center')\n",
    "plt.yticks(np.arange(n_features), [ \"V2\", \"V3\",\"V4\"])\n",
    "plt.xlabel('No V1 Feature Importance')\n",
    "plt.ylabel('Feature')\n",
    "plt.show()\n",
    "plt.barh(range(n_features), forest_2.feature_importances_, align='center')\n",
    "plt.yticks(np.arange(n_features), [ \"V1\", \"V3\",\"V4\"])\n",
    "plt.xlabel('No V2 Feature Importance')\n",
    "plt.ylabel('Feature')\n",
    "plt.show()\n",
    "plt.barh(range(n_features), forest_3.feature_importances_, align='center')\n",
    "plt.yticks(np.arange(n_features), [ \"V1\", \"V2\",\"V4\"])\n",
    "plt.xlabel('No V3 Feature Importance')\n",
    "plt.ylabel('Feature')\n",
    "plt.show()\n",
    "plt.barh(range(n_features), forest_4.feature_importances_, align='center')\n",
    "plt.yticks(np.arange(n_features), [ \"V1\", \"V2\",\"V3\"])\n",
    "plt.xlabel('No V4 Feature Importance')\n",
    "plt.ylabel('Feature')\n",
    "plt.show()"
   ]
  },
  {
   "cell_type": "code",
   "execution_count": null,
   "metadata": {},
   "outputs": [],
   "source": []
  },
  {
   "cell_type": "code",
   "execution_count": null,
   "metadata": {
    "collapsed": true
   },
   "outputs": [],
   "source": []
  }
 ],
 "metadata": {
  "kernelspec": {
   "display_name": "Python 3",
   "language": "python",
   "name": "python3"
  },
  "language_info": {
   "codemirror_mode": {
    "name": "ipython",
    "version": 3
   },
   "file_extension": ".py",
   "mimetype": "text/x-python",
   "name": "python",
   "nbconvert_exporter": "python",
   "pygments_lexer": "ipython3",
   "version": "3.5.2"
  },
  "widgets": {
   "state": {},
   "version": "1.1.2"
  }
 },
 "nbformat": 4,
 "nbformat_minor": 2
}
