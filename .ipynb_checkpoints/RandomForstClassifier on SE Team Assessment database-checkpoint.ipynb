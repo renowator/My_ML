{
 "cells": [
  {
   "cell_type": "code",
   "execution_count": 48,
   "metadata": {
    "collapsed": true
   },
   "outputs": [],
   "source": [
    "import pandas\n",
    "import numpy as np\n",
    "import sklearn\n",
    "from sklearn.ensemble import RandomForestClassifier\n",
    "from sklearn.ensemble import RandomForestRegressor\n",
    "from sklearn.tree import DecisionTreeClassifier\n",
    "from sklearn.model_selection import train_test_split\n",
    "import glob"
   ]
  },
  {
   "cell_type": "markdown",
   "metadata": {},
   "source": [
    "#  San Francisco State University\n",
    "##  Software Engineering Team Assessment and Prediction (SETAP) Project  Machine Learning Training Data File Version 0.7\n",
    " ====================================================================\n",
    "\n",
    "#  Copyright 2000-2017 by San Francisco State University, Dragutin Petkovic, and Marc Sosnick-Perez.\n",
    "\n",
    "#  CONTACT\n",
    "  -------\n",
    "##  Professor Dragutin Petkovic:  petkovic@sfsu.edu\n",
    "\n",
    "#  LICENSE\n",
    " -------\n",
    "  This data is released under the Creative Commons Attribution-\n",
    "  NonCommercial 4.0 International license.  For more information,\n",
    "  please see\n",
    "  http://creativecommons.org/licenses/by-nc/4.0/legalcode.\n",
    "  The research that has made this data possible has been funded in\n",
    "  part by NSF grant NSF-TUES1140172.\n",
    "\n",
    "  YOUR FEEDBACK IS WELCOME\n",
    "  ------------------------\n",
    "  We are interested in how this data is being used.  If you use it in\n",
    "  a research project, we would like to know how you are using the\n",
    "  data.  Please contact us at petkovic@sfsu.edu.\n",
    "\n",
    "\n",
    "#  FILES INCLUDED IN DISTRIBUTION PACKAGE\n",
    "  ==================================\n",
    "  More data about the SETAP project, data collection, and description\n",
    "  and use of machine learning to analyze the data can be found in the\n",
    "  following paper:\n",
    "\n",
    "  D. Petkovic, M. Sosnick-Perez, K. Okada, R. Todtenhoefer, S. Huang,\n",
    "  N. Miglani, A. Vigil: \"Using the Random Forest Classifier to Assess\n",
    "  and Predict Student Learning of Software Engineering Teamwork\".\n",
    "  Frontiers in Education FIE 2016, Erie, PA, 2016\n",
    "\n",
    "\n",
    "  See DATA DESCRIPTION below for more information about the data.  The\n",
    "  README file (which you are reading) contains project information\n",
    "  such as data collection techniques, data organization and field\n",
    "  naming convention.  In addition to the README file, the archive\n",
    "  contains a number of .csv files.  Each of these CSV files contains\n",
    "  data aggregated by team from the project (see below), paired with\n",
    "  that team's outcome for either the process or product component of\n",
    "  the team's evaluation.  The files are named using the following\n",
    "  convention:\n",
    "  \n",
    "                  setap[Process|Product]T[1-11].csv\n",
    "\n",
    "  For example, the file setapProcessT5.csv contains the data for all\n",
    "  teams for time interval 5, paired with the outcome data for the\n",
    "  Process component of the team's evaluation.\n",
    "\n",
    "  Detailed information about the exact format of the .csv file may be\n",
    "  found in the csv files themselves.\n",
    "\n",
    "\n",
    "#  DATA DESCRIPTION\n",
    "  ====================================================================\n",
    "  The following is a detailed description of the data contained in the\n",
    "  accompanying files.\n",
    "\n",
    "###  INTRODUCTION\n",
    " ------------\n",
    "\n",
    "  The data contained in these files were collected over a period of\n",
    "  several semesters from students engaged in software engineering\n",
    "  classes at San Francisco State University (class sections of CSC\n",
    "  640, CSC 648 and CSC 848).  All students consented to this data\n",
    "  being shared for research purposes provided no uniquely identifiable\n",
    "  information was contained in the distributed files.  The information\n",
    "  was collected through various means, with emphasis being placed on\n",
    "  the collection of objective, quantifiable information.  For more\n",
    "  information on the data collection procedures, please see the paper\n",
    "  referenced above.\n",
    "\n",
    "\n",
    "###  PRIVACY\n",
    "  -------\n",
    "  The data contained in this file does not contain any information\n",
    "  which may be individually traced to a particular student who\n",
    "  participated in the study.\n",
    "\n",
    "#  BRIEF DESCRIPTION OF DATA SOURCES AND DERIVATIONS\n",
    "  -------------------------------------------------\n",
    "  SAMs (Student Activity Measure) are collected for each student team\n",
    "  member during their participation in a software engineering class.\n",
    "  Student teams work together on a final class project, and comprise\n",
    "  5-6 students.  Teams that are made up of students from only one\n",
    "  school are labeled local teams.  Teams made up of students from more\n",
    "  than one school are labeled global teams.  SAMs are collected from:\n",
    "  weekly timecards, instructor observations, and software engineering\n",
    "  tool usage logs.  SAMs are then aggregated by team and time interval\n",
    "  (see next section) into TAMs (Team Activity Measure).  Outcomes are\n",
    "  determined at the end of the semester through evaluation of student\n",
    "  team work in two categories:  software engineering process (how well\n",
    "  the team applied best software engineering practices), and software\n",
    "  engineering product (the quality of the finished product the team\n",
    "  produced).  Thus for each team, two outcomes are determined, process\n",
    "  and product, respectively.  Outcomes are classified into two class\n",
    "  grades, A or F.  A represents teams that are at or above\n",
    "  expectations, F represents teams that are below expectations or need\n",
    "  attention.  For more information, please see the paper referenced\n",
    "  above.\n",
    "\n",
    "  The SE process and SE product outcomes represent ML training classes#  and are to be considered separately, e.g. one should train ML for SE\n",
    "  process separately from training for SE product.\n",
    "\n"
   ]
  },
  {
   "cell_type": "code",
   "execution_count": 49,
   "metadata": {},
   "outputs": [],
   "source": [
    "path ='data/SETAP PRODUCT DATA' \n",
    "allFiles = glob.glob(path + \"/*.csv\")\n",
    "frame = pandas.DataFrame()\n",
    "list_ = []\n",
    "for file_ in allFiles:\n",
    "    df = pandas.read_csv(file_,index_col=None, header=0)\n",
    "    list_.append(df)\n",
    "frame = pandas.concat(list_)\n",
    "\n",
    "data = pandas.DataFrame.from_csv(\"data/SETAP PRODUCT DATA/setapProductT1.csv\")\n",
    "# full_data=True will let explore the whole dataset (T1-T11)\n",
    "full_data = True\n",
    "if (full_data):\n",
    "    data = frame"
   ]
  },
  {
   "cell_type": "code",
   "execution_count": 50,
   "metadata": {},
   "outputs": [],
   "source": [
    "labels = data['productLetterGrade']\n",
    "features = data.drop('productLetterGrade', axis=1)\n",
    "#Drop certain features\n",
    "if (full_data):\n",
    "    features = features.drop([col for col in features.columns if 'Total' in col], axis=1)\n",
    "    features = features.drop([col for col in features.columns if 'Count' in col], axis=1)\n",
    "    features = features.drop([col for col in features.columns if 'Student' in col], axis=1)\n",
    "    #features = features.drop('femaleTeamMembersPercent', axis=1)"
   ]
  },
  {
   "cell_type": "code",
   "execution_count": 89,
   "metadata": {},
   "outputs": [
    {
     "name": "stderr",
     "output_type": "stream",
     "text": [
      "/Users/nickstepanov/miniconda3/envs/RoboND/lib/python3.5/site-packages/sklearn/model_selection/_split.py:2026: FutureWarning: From version 0.21, test_size will always complement train_size unless both are specified.\n",
      "  FutureWarning)\n"
     ]
    }
   ],
   "source": [
    "# Rename strings in data to appropriate integers, labels to booleans\n",
    "mapping = {'F': False, 'A': True}\n",
    "features_mapping = {'M': 0, 'F' : 1, 'Global': 0, 'Local': 1}\n",
    "features = pandas.DataFrame(features)\n",
    "labels = pandas.DataFrame(labels)\n",
    "labels = labels.applymap(lambda s: mapping.get(s) if s in mapping else s)\n",
    "#features.dropna(axis='columns', how='any', inplace=True)\n",
    "features.fillna(1, inplace=True)\n",
    "features = features.applymap(lambda s: features_mapping.get(s) if s in features_mapping else s)\n",
    "X_train, X_test, y_train, y_test = train_test_split(features, labels, random_state=1, train_size=0.4)"
   ]
  },
  {
   "cell_type": "code",
   "execution_count": 90,
   "metadata": {},
   "outputs": [],
   "source": [
    "rfc = RandomForestClassifier(n_estimators= 1000, max_features=0.3, max_depth=50, oob_score=True, n_jobs=-1)"
   ]
  },
  {
   "cell_type": "code",
   "execution_count": 91,
   "metadata": {},
   "outputs": [
    {
     "name": "stdout",
     "output_type": "stream",
     "text": [
      "Accuracy score: 84.3%\n"
     ]
    }
   ],
   "source": [
    "rfc.fit(X_train, y_train.values.ravel())\n",
    "print ('Accuracy score: ' + str(round(rfc.score(X_test, y_test.values.ravel()),3)*100) + '%')"
   ]
  },
  {
   "cell_type": "code",
   "execution_count": 92,
   "metadata": {},
   "outputs": [
    {
     "data": {
      "image/png": "[encoded data removed]",
      "text/plain": [
       "<Figure size 360x518.4 with 1 Axes>"
      ]
     },
     "metadata": {},
     "output_type": "display_data"
    }
   ],
   "source": [
    "import matplotlib.pyplot as plt\n",
    "n_features = len(features.columns)\n",
    "plt.figure(figsize=(5,n_features/5))\n",
    "plt.barh(range(n_features), rfc.feature_importances_, align='center')\n",
    "plt.yticks(np.arange(n_features), features.columns)\n",
    "plt.xlabel('Full Feature Importance of ' + str(n_features) + ' features')\n",
    "plt.ylabel('Feature')\n",
    "plt.show()"
   ]
  },
  {
   "cell_type": "code",
   "execution_count": 93,
   "metadata": {},
   "outputs": [
    {
     "name": "stdout",
     "output_type": "stream",
     "text": [
      "Top important features:\n",
      "1. averageResponsesByWeek\n",
      "2. femaleTeamMembersPercent\n",
      "3. standardDeviationResponsesByWeek\n",
      "4. leadAdminHoursAverage\n",
      "5. averageInPersonMeetingHoursAverageByWeek\n",
      "6. inPersonMeetingHoursAverage\n"
     ]
    }
   ],
   "source": [
    "features.columns[np.argmax(rfc.feature_importances_)] \n",
    "print ( \"Top important features:\")\n",
    "count = 1\n",
    "for string in features.columns[rfc.feature_importances_.argsort()[-6:][::-1]] : \n",
    "    print(str(count) + '. ' + string )\n",
    "    count+=1"
   ]
  },
  {
   "cell_type": "code",
   "execution_count": 96,
   "metadata": {},
   "outputs": [
    {
     "name": "stdout",
     "output_type": "stream",
     "text": [
      "Full dataset test set accuracy\n"
     ]
    },
    {
     "data": {
      "text/html": [
       "<div>\n",
       "<style>\n",
       "    .dataframe thead tr:only-child th {\n",
       "        text-align: right;\n",
       "    }\n",
       "\n",
       "    .dataframe thead th {\n",
       "        text-align: left;\n",
       "    }\n",
       "\n",
       "    .dataframe tbody tr th {\n",
       "        vertical-align: top;\n",
       "    }\n",
       "</style>\n",
       "<table border=\"1\" class=\"dataframe\">\n",
       "  <thead>\n",
       "    <tr style=\"text-align: right;\">\n",
       "      <th>Predicted</th>\n",
       "      <th>False</th>\n",
       "      <th>True</th>\n",
       "    </tr>\n",
       "    <tr>\n",
       "      <th>Actual</th>\n",
       "      <th></th>\n",
       "      <th></th>\n",
       "    </tr>\n",
       "  </thead>\n",
       "  <tbody>\n",
       "    <tr>\n",
       "      <th>False</th>\n",
       "      <td>158</td>\n",
       "      <td>52</td>\n",
       "    </tr>\n",
       "    <tr>\n",
       "      <th>True</th>\n",
       "      <td>25</td>\n",
       "      <td>254</td>\n",
       "    </tr>\n",
       "  </tbody>\n",
       "</table>\n",
       "</div>"
      ],
      "text/plain": [
       "Predicted  False  True \n",
       "Actual                 \n",
       "False        158     52\n",
       "True          25    254"
      ]
     },
     "execution_count": 96,
     "metadata": {},
     "output_type": "execute_result"
    }
   ],
   "source": [
    "print(\"Full dataset test set accuracy\")\n",
    "pandas.crosstab(y_test['productLetterGrade'], rfc.predict(X_test), rownames=['Actual'], colnames=['Predicted'])\n",
    "#pandas.crosstab(labels['productLetterGrade'], rfc.predict(features), rownames=['Actual'], colnames=['Predicted'])"
   ]
  },
  {
   "cell_type": "code",
   "execution_count": 97,
   "metadata": {},
   "outputs": [
    {
     "name": "stdout",
     "output_type": "stream",
     "text": [
      "T1 Accuracy score: 77.0%\n"
     ]
    },
    {
     "data": {
      "text/html": [
       "<div>\n",
       "<style>\n",
       "    .dataframe thead tr:only-child th {\n",
       "        text-align: right;\n",
       "    }\n",
       "\n",
       "    .dataframe thead th {\n",
       "        text-align: left;\n",
       "    }\n",
       "\n",
       "    .dataframe tbody tr th {\n",
       "        vertical-align: top;\n",
       "    }\n",
       "</style>\n",
       "<table border=\"1\" class=\"dataframe\">\n",
       "  <thead>\n",
       "    <tr style=\"text-align: right;\">\n",
       "      <th>Predicted</th>\n",
       "      <th>False</th>\n",
       "      <th>True</th>\n",
       "    </tr>\n",
       "    <tr>\n",
       "      <th>Actual</th>\n",
       "      <th></th>\n",
       "      <th></th>\n",
       "    </tr>\n",
       "  </thead>\n",
       "  <tbody>\n",
       "    <tr>\n",
       "      <th>False</th>\n",
       "      <td>18</td>\n",
       "      <td>14</td>\n",
       "    </tr>\n",
       "    <tr>\n",
       "      <th>True</th>\n",
       "      <td>3</td>\n",
       "      <td>39</td>\n",
       "    </tr>\n",
       "  </tbody>\n",
       "</table>\n",
       "</div>"
      ],
      "text/plain": [
       "Predicted  False  True \n",
       "Actual                 \n",
       "False         18     14\n",
       "True           3     39"
      ]
     },
     "execution_count": 97,
     "metadata": {},
     "output_type": "execute_result"
    }
   ],
   "source": [
    "#Drop certain features\n",
    "if (full_data): \n",
    "    data = pandas.DataFrame.from_csv(\"data/SETAP PRODUCT DATA/setapProductT1.csv\")\n",
    "    labels = data['productLetterGrade']\n",
    "    features = data.drop('productLetterGrade', axis=1)\n",
    "    features = features.drop([col for col in features.columns if 'Total' in col], axis=1)\n",
    "    features = features.drop([col for col in features.columns if 'Count' in col], axis=1)\n",
    "    features = features.drop([col for col in features.columns if 'Student' in col], axis=1)\n",
    "    #features = features.drop('femaleTeamMembersPercent', axis=1)\n",
    "    # Rename strings in data to appropriate integers, labels to booleans\n",
    "    mapping = {'F': False, 'A': True}\n",
    "    features_mapping = {'M': 0, 'F' : 1, 'Global': 0, 'Local': 1}\n",
    "    features = pandas.DataFrame(features)\n",
    "    labels = pandas.DataFrame(labels)\n",
    "    labels = labels.applymap(lambda s: mapping.get(s) if s in mapping else s)\n",
    "    #features.dropna(axis='columns', how='any', inplace=True)\n",
    "    features.fillna(1, inplace=True)\n",
    "    features = features.applymap(lambda s: features_mapping.get(s) if s in features_mapping else s)\n",
    "    print ('T1 Accuracy score: ' + str(round(rfc.score(features, labels.values.ravel()),3)*100) + '%')\n",
    "pandas.crosstab(labels['productLetterGrade'], rfc.predict(features), rownames=['Actual'], colnames=['Predicted'])"
   ]
  },
  {
   "cell_type": "code",
   "execution_count": 98,
   "metadata": {},
   "outputs": [
    {
     "name": "stdout",
     "output_type": "stream",
     "text": [
      "T2 Accuracy score: 93.2%\n"
     ]
    },
    {
     "data": {
      "text/html": [
       "<div>\n",
       "<style>\n",
       "    .dataframe thead tr:only-child th {\n",
       "        text-align: right;\n",
       "    }\n",
       "\n",
       "    .dataframe thead th {\n",
       "        text-align: left;\n",
       "    }\n",
       "\n",
       "    .dataframe tbody tr th {\n",
       "        vertical-align: top;\n",
       "    }\n",
       "</style>\n",
       "<table border=\"1\" class=\"dataframe\">\n",
       "  <thead>\n",
       "    <tr style=\"text-align: right;\">\n",
       "      <th>Predicted</th>\n",
       "      <th>False</th>\n",
       "      <th>True</th>\n",
       "    </tr>\n",
       "    <tr>\n",
       "      <th>Actual</th>\n",
       "      <th></th>\n",
       "      <th></th>\n",
       "    </tr>\n",
       "  </thead>\n",
       "  <tbody>\n",
       "    <tr>\n",
       "      <th>False</th>\n",
       "      <td>28</td>\n",
       "      <td>4</td>\n",
       "    </tr>\n",
       "    <tr>\n",
       "      <th>True</th>\n",
       "      <td>1</td>\n",
       "      <td>41</td>\n",
       "    </tr>\n",
       "  </tbody>\n",
       "</table>\n",
       "</div>"
      ],
      "text/plain": [
       "Predicted  False  True \n",
       "Actual                 \n",
       "False         28      4\n",
       "True           1     41"
      ]
     },
     "execution_count": 98,
     "metadata": {},
     "output_type": "execute_result"
    }
   ],
   "source": [
    "data = pandas.DataFrame.from_csv(\"data/SETAP PRODUCT DATA/setapProductT2.csv\")\n",
    "labels = data['productLetterGrade']\n",
    "features = data.drop('productLetterGrade', axis=1)\n",
    "#Drop certain features\n",
    "if (full_data):\n",
    "    features = features.drop([col for col in features.columns if 'Total' in col], axis=1)\n",
    "    features = features.drop([col for col in features.columns if 'Count' in col], axis=1)\n",
    "    features = features.drop([col for col in features.columns if 'Student' in col], axis=1)\n",
    "    #features = features.drop('femaleTeamMembersPercent', axis=1)\n",
    "    # Rename strings in data to appropriate integers, labels to booleans\n",
    "    mapping = {'F': False, 'A': True}\n",
    "    features_mapping = {'M': 0, 'F' : 1, 'Global': 0, 'Local': 1}\n",
    "    features = pandas.DataFrame(features)\n",
    "    labels = pandas.DataFrame(labels)\n",
    "    labels = labels.applymap(lambda s: mapping.get(s) if s in mapping else s)\n",
    "    #features.dropna(axis='columns', how='any', inplace=True)\n",
    "    features.fillna(1, inplace=True)\n",
    "    features = features.applymap(lambda s: features_mapping.get(s) if s in features_mapping else s)\n",
    "    print ('T2 Accuracy score: ' + str(round(rfc.score(features, labels.values.ravel()),3)*100) + '%')\n",
    "pandas.crosstab(labels['productLetterGrade'], rfc.predict(features), rownames=['Actual'], colnames=['Predicted'])"
   ]
  },
  {
   "cell_type": "code",
   "execution_count": 99,
   "metadata": {},
   "outputs": [
    {
     "name": "stdout",
     "output_type": "stream",
     "text": [
      "T3 Accuracy score: 89.2%\n"
     ]
    },
    {
     "data": {
      "text/html": [
       "<div>\n",
       "<style>\n",
       "    .dataframe thead tr:only-child th {\n",
       "        text-align: right;\n",
       "    }\n",
       "\n",
       "    .dataframe thead th {\n",
       "        text-align: left;\n",
       "    }\n",
       "\n",
       "    .dataframe tbody tr th {\n",
       "        vertical-align: top;\n",
       "    }\n",
       "</style>\n",
       "<table border=\"1\" class=\"dataframe\">\n",
       "  <thead>\n",
       "    <tr style=\"text-align: right;\">\n",
       "      <th>Predicted</th>\n",
       "      <th>False</th>\n",
       "      <th>True</th>\n",
       "    </tr>\n",
       "    <tr>\n",
       "      <th>Actual</th>\n",
       "      <th></th>\n",
       "      <th></th>\n",
       "    </tr>\n",
       "  </thead>\n",
       "  <tbody>\n",
       "    <tr>\n",
       "      <th>False</th>\n",
       "      <td>27</td>\n",
       "      <td>5</td>\n",
       "    </tr>\n",
       "    <tr>\n",
       "      <th>True</th>\n",
       "      <td>3</td>\n",
       "      <td>39</td>\n",
       "    </tr>\n",
       "  </tbody>\n",
       "</table>\n",
       "</div>"
      ],
      "text/plain": [
       "Predicted  False  True \n",
       "Actual                 \n",
       "False         27      5\n",
       "True           3     39"
      ]
     },
     "execution_count": 99,
     "metadata": {},
     "output_type": "execute_result"
    }
   ],
   "source": [
    "data = pandas.DataFrame.from_csv(\"data/SETAP PRODUCT DATA/setapProductT3.csv\")\n",
    "labels = data['productLetterGrade']\n",
    "features = data.drop('productLetterGrade', axis=1)\n",
    "#Drop certain features\n",
    "if (full_data):\n",
    "    features = features.drop([col for col in features.columns if 'Total' in col], axis=1)\n",
    "    features = features.drop([col for col in features.columns if 'Count' in col], axis=1)\n",
    "    features = features.drop([col for col in features.columns if 'Student' in col], axis=1)\n",
    "    #features = features.drop('femaleTeamMembersPercent', axis=1)\n",
    "    # Rename strings in data to appropriate integers, labels to booleans\n",
    "    mapping = {'F': False, 'A': True}\n",
    "    features_mapping = {'M': 0, 'F' : 1, 'Global': 0, 'Local': 1}\n",
    "    features = pandas.DataFrame(features)\n",
    "    labels = pandas.DataFrame(labels)\n",
    "    labels = labels.applymap(lambda s: mapping.get(s) if s in mapping else s)\n",
    "    #features.dropna(axis='columns', how='any', inplace=True)\n",
    "    features.fillna(1, inplace=True)\n",
    "    features = features.applymap(lambda s: features_mapping.get(s) if s in features_mapping else s)\n",
    "    print ('T3 Accuracy score: ' + str(round(rfc.score(features, labels.values.ravel()),3)*100) + '%')\n",
    "pandas.crosstab(labels['productLetterGrade'], rfc.predict(features), rownames=['Actual'], colnames=['Predicted'])"
   ]
  },
  {
   "cell_type": "code",
   "execution_count": 108,
   "metadata": {},
   "outputs": [
    {
     "name": "stdout",
     "output_type": "stream",
     "text": [
      "T3 Accuracy score: 93.2%\n"
     ]
    },
    {
     "data": {
      "text/html": [
       "<div>\n",
       "<style>\n",
       "    .dataframe thead tr:only-child th {\n",
       "        text-align: right;\n",
       "    }\n",
       "\n",
       "    .dataframe thead th {\n",
       "        text-align: left;\n",
       "    }\n",
       "\n",
       "    .dataframe tbody tr th {\n",
       "        vertical-align: top;\n",
       "    }\n",
       "</style>\n",
       "<table border=\"1\" class=\"dataframe\">\n",
       "  <thead>\n",
       "    <tr style=\"text-align: right;\">\n",
       "      <th>Predicted</th>\n",
       "      <th>False</th>\n",
       "      <th>True</th>\n",
       "    </tr>\n",
       "    <tr>\n",
       "      <th>Actual</th>\n",
       "      <th></th>\n",
       "      <th></th>\n",
       "    </tr>\n",
       "  </thead>\n",
       "  <tbody>\n",
       "    <tr>\n",
       "      <th>False</th>\n",
       "      <td>28</td>\n",
       "      <td>4</td>\n",
       "    </tr>\n",
       "    <tr>\n",
       "      <th>True</th>\n",
       "      <td>1</td>\n",
       "      <td>41</td>\n",
       "    </tr>\n",
       "  </tbody>\n",
       "</table>\n",
       "</div>"
      ],
      "text/plain": [
       "Predicted  False  True \n",
       "Actual                 \n",
       "False         28      4\n",
       "True           1     41"
      ]
     },
     "execution_count": 108,
     "metadata": {},
     "output_type": "execute_result"
    }
   ],
   "source": [
    "data = pandas.DataFrame.from_csv(\"data/SETAP PRODUCT DATA/setapProductT6.csv\")\n",
    "labels = data['productLetterGrade']\n",
    "features = data.drop('productLetterGrade', axis=1)\n",
    "#Drop certain features\n",
    "if (full_data):\n",
    "    features = features.drop([col for col in features.columns if 'Total' in col], axis=1)\n",
    "    features = features.drop([col for col in features.columns if 'Count' in col], axis=1)\n",
    "    features = features.drop([col for col in features.columns if 'Student' in col], axis=1)\n",
    "    #features = features.drop('femaleTeamMembersPercent', axis=1)\n",
    "    # Rename strings in data to appropriate integers, labels to booleans\n",
    "    mapping = {'F': False, 'A': True}\n",
    "    features_mapping = {'M': 0, 'F' : 1, 'Global': 0, 'Local': 1}\n",
    "    features = pandas.DataFrame(features)\n",
    "    labels = pandas.DataFrame(labels)\n",
    "    labels = labels.applymap(lambda s: mapping.get(s) if s in mapping else s)\n",
    "    #features.dropna(axis='columns', how='any', inplace=True)\n",
    "    features.fillna(1, inplace=True)\n",
    "    features = features.applymap(lambda s: features_mapping.get(s) if s in features_mapping else s)\n",
    "    print ('T3 Accuracy score: ' + str(round(rfc.score(features, labels.values.ravel()),3)*100) + '%')\n",
    "pandas.crosstab(labels['productLetterGrade'], rfc.predict(features), rownames=['Actual'], colnames=['Predicted'])"
   ]
  },
  {
   "cell_type": "code",
   "execution_count": null,
   "metadata": {
    "collapsed": true
   },
   "outputs": [],
   "source": []
  }
 ],
 "metadata": {
  "kernelspec": {
   "display_name": "Python 3",
   "language": "python",
   "name": "python3"
  },
  "language_info": {
   "codemirror_mode": {
    "name": "ipython",
    "version": 3
   },
   "file_extension": ".py",
   "mimetype": "text/x-python",
   "name": "python",
   "nbconvert_exporter": "python",
   "pygments_lexer": "ipython3",
   "version": "3.5.2"
  },
  "widgets": {
   "state": {},
   "version": "1.1.2"
  }
 },
 "nbformat": 4,
 "nbformat_minor": 2
}
